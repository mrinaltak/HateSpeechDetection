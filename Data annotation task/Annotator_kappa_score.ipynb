{
  "nbformat": 4,
  "nbformat_minor": 0,
  "metadata": {
    "colab": {
      "name": "Annotator_kappa_score.ipynb",
      "provenance": [],
      "collapsed_sections": []
    },
    "kernelspec": {
      "name": "python3",
      "display_name": "Python 3"
    },
    "language_info": {
      "name": "python"
    }
  },
  "cells": [
    {
      "cell_type": "code",
      "execution_count": 1,
      "metadata": {
        "colab": {
          "base_uri": "https://localhost:8080/"
        },
        "id": "MUQ8XY3efcto",
        "outputId": "0e1eee9d-a71e-4192-c5bb-bfd77e5fd982"
      },
      "outputs": [
        {
          "output_type": "stream",
          "name": "stdout",
          "text": [
            "75.0\n",
            "0.36932391523713426\n",
            "86.0\n",
            "0.7192137986361813\n"
          ]
        }
      ],
      "source": [
        "### WRITE CODE TO LOAD ANNOTATIONS AND \n",
        "### COMPUTE AGREEMENT + COHEN'S KAPPA HERE!\n",
        "\n",
        "from sklearn.metrics import cohen_kappa_score\n",
        "import pandas as pd\n",
        "# Loading the annotations\n",
        "df1 = pd.read_csv(\"./annotator3.tsv\",sep=\"\\t\")\n",
        "df2 = pd.read_csv(\"./annotator4.tsv\",sep=\"\\t\")\n",
        "\n",
        "\n",
        "# Counting the raw agreement\n",
        "agree_count = 0\n",
        "for i in range(0,100):\n",
        "  if df1[\"Is Hate?\"].tolist()[i] == df2[\"Is Hate?\"].tolist()[i]:\n",
        "    agree_count = agree_count + 1\n",
        "\n",
        "# Raw agreement\n",
        "print (agree_count/100*100)\n",
        "\n",
        "# Cohen's Kappa\n",
        "print(cohen_kappa_score(df1[\"Is Hate?\"], df2[\"Is Hate?\"]))\n",
        "\n",
        "\n",
        "# Counting the raw agreement\n",
        "agree_count = 0\n",
        "for i in range(0,100):\n",
        "  if df1[\"Is offensive?\"].tolist()[i] == df2[\"Is offensive?\"].tolist()[i]:\n",
        "    agree_count = agree_count + 1\n",
        "\n",
        "# Raw agreement\n",
        "print (agree_count/100*100)\n",
        "\n",
        "# Cohen's Kappa\n",
        "print(cohen_kappa_score(df1[\"Is offensive?\"], df2[\"Is offensive?\"]))\n"
      ]
    }
  ]
}